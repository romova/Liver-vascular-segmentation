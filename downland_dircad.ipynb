{
 "cells": [
  {
   "cell_type": "code",
   "execution_count": null,
   "id": "8c8e0774",
   "metadata": {},
   "outputs": [],
   "source": [
    "def unzip(input_file:Path, output_dir=None):\n",
    "    with ZipFile(input_file,\"r\") as zip_ref:\n",
    "         for file in tqdm(\n",
    "             iterable=zip_ref.namelist(),\n",
    "             total=len(zip_ref.namelist()),\n",
    "             desc=str(Path(input_file).name)\n",
    "             ):\n",
    "              zip_ref.extract(member=file, path=output_dir)\n",
    "\n",
    "# Download data\n",
    "URL = \"https://cloud.ircad.fr/index.php/s/JN3z7EynBiwYyjy/download\"\n",
    "mywget(URL, \"3Dircadb1.zip\")\n",
    "# Unzip 1st level .zip\n",
    "dpath = io3d.datasets.get_dataset_path(\"3Dircadb1\", \"data3d\", 1).parent.parent.parent\n",
    "unzip(\"3Dircadb1.zip\", dpath)\n",
    "# Unzip 2nd level .zip\n",
    "for pth in dpath.glob(\"**/*.zip\"):\n",
    "  unzip(pth, pth.parent)\n",
    "  pth.unlink()"
   ]
  }
 ],
 "metadata": {
  "kernelspec": {
   "display_name": "Python 3 (ipykernel)",
   "language": "python",
   "name": "python3"
  },
  "language_info": {
   "codemirror_mode": {
    "name": "ipython",
    "version": 3
   },
   "file_extension": ".py",
   "mimetype": "text/x-python",
   "name": "python",
   "nbconvert_exporter": "python",
   "pygments_lexer": "ipython3",
   "version": "3.10.12"
  }
 },
 "nbformat": 4,
 "nbformat_minor": 5
}
